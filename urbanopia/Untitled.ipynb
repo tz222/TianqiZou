{
 "cells": [
  {
   "cell_type": "code",
   "execution_count": 4,
   "metadata": {
    "collapsed": true
   },
   "outputs": [],
   "source": [
    "import json\n",
    "import shapely.geometry\n",
    "import geopandas as gpd\n",
    "import geopandas_osm.osm\n",
    "import xml.etree.ElementTree as ET\n",
    "from shapely.geometry import Point, LineString\n",
    "from six import string_types\n",
    "import matplotlib.pyplot as plt\n"
   ]
  },
  {
   "cell_type": "code",
   "execution_count": null,
   "metadata": {
    "collapsed": true
   },
   "outputs": [],
   "source": []
  },
  {
   "cell_type": "code",
   "execution_count": null,
   "metadata": {
    "collapsed": true
   },
   "outputs": [],
   "source": []
  },
  {
   "cell_type": "code",
   "execution_count": 5,
   "metadata": {},
   "outputs": [
    {
     "data": {
      "image/svg+xml": [
       "<svg xmlns=\"http://www.w3.org/2000/svg\" xmlns:xlink=\"http://www.w3.org/1999/xlink\" width=\"100.0\" height=\"100.0\" viewBox=\"-0.109147453308 51.5423482441 0.00964050292969 0.00554481536572\" preserveAspectRatio=\"xMinYMin meet\"><g transform=\"matrix(1,0,0,-1,0,103.090241304)\"><path fill-rule=\"evenodd\" fill=\"#66cc99\" stroke=\"#555555\" stroke-width=\"0.000192810058594\" opacity=\"0.6\" d=\"M -0.108790397644,51.5427052998 L -0.0998640060425,51.5427052998 L -0.0998640060425,51.5475360038 L -0.108790397644,51.5475360038 L -0.108790397644,51.5427052998 z\" /></g></svg>"
      ],
      "text/plain": [
       "<shapely.geometry.polygon.Polygon at 0xa1f79b0>"
      ]
     },
     "execution_count": 5,
     "metadata": {},
     "output_type": "execute_result"
    }
   ],
   "source": [
    "admin_df = gpd.read_file('mapldeg.geojson')\n",
    "sg_boundary = admin_df.loc[0].geometry\n",
    "sg_boundary\n",
    "\n",
    "\n"
   ]
  },
  {
   "cell_type": "code",
   "execution_count": 6,
   "metadata": {},
   "outputs": [
    {
     "name": "stderr",
     "output_type": "stream",
     "text": [
      "C:\\Users\\tz292\\Anaconda2\\lib\\site-packages\\geopandas_osm-0.0.1-py2.7.egg\\geopandas_osm\\osm.py:299: FutureWarning: by argument to sort_index is deprecated, pls use .sort_values(by=...)\n",
      "  df = df.sort_index(by='index')[['lon', 'lat']]\n"
     ]
    },
    {
     "data": {
      "text/plain": [
       "<matplotlib.axes._subplots.AxesSubplot at 0xa1f7f98>"
      ]
     },
     "execution_count": 6,
     "metadata": {},
     "output_type": "execute_result"
    }
   ],
   "source": [
    "# Query for the highways within the `sg_boundary` we obtained earlier from the sg_admin.\n",
    "# NB this does take on the order of minutes to run\n",
    "\n",
    "df = geopandas_osm.osm.query_osm('way', sg_boundary, recurse='down', tags='highway')\n",
    "\n",
    "# This gives us lots of columns we don't need, so we'll isolate it to the ones we do need\n",
    "df = df[df.type == 'LineString'][['highway', 'name', 'geometry']]\n",
    "\n",
    "df.plot()\n",
    "#plt.show()\n"
   ]
  },
  {
   "cell_type": "code",
   "execution_count": null,
   "metadata": {
    "collapsed": true
   },
   "outputs": [],
   "source": []
  }
 ],
 "metadata": {
  "kernelspec": {
   "display_name": "Python 2",
   "language": "python",
   "name": "python2"
  },
  "language_info": {
   "codemirror_mode": {
    "name": "ipython",
    "version": 2
   },
   "file_extension": ".py",
   "mimetype": "text/x-python",
   "name": "python",
   "nbconvert_exporter": "python",
   "pygments_lexer": "ipython2",
   "version": "2.7.13"
  }
 },
 "nbformat": 4,
 "nbformat_minor": 2
}
